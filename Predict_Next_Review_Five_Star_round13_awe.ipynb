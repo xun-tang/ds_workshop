{
 "cells": [
  {
   "cell_type": "markdown",
   "metadata": {},
   "source": [
    "# Case study\n",
    "Given a user’s past reviews on Yelp (available from yelp-challenge dataset),\n",
    "\n",
    "When the user writes a review for a business she hasn't reviewed before,\n",
    "\n",
    "How likely will it be a Five-Star review?\n",
    "\n",
    "- Load data\n",
    "- Visualize the data\n",
    "- Featurize the data\n",
    "- Join tables to populate the features\n",
    "- Model the data: Logistic regression\n",
    "- Evaluate the model\n",
    "- Make prediction with the model\n",
    "\n",
    "## Data source\n",
    "[Yelp Dataset Round 13](https://www.yelp.com/dataset)\n",
    "\n",
    "We took the full set of business, user, and review data in json format.\n"
   ]
  },
  {
   "cell_type": "markdown",
   "metadata": {},
   "source": [
    "# Step 1: Load the Data\n",
    "\n",
    "We store data in Pandas DataFrames.\n",
    "\n",
    "We load three types of data from the dataset, each stored in a separate df.\n",
    "\n",
    "`set_index()`: tells pandas to index the df by the column specified in the param."
   ]
  },
  {
   "cell_type": "code",
   "execution_count": 141,
   "metadata": {
    "scrolled": true
   },
   "outputs": [],
   "source": [
    "import pandas as pd\n",
    "\n",
    "CHUNK_SIZE = 10000\n",
    "PATH = '~/Desktop/yelp_dataset/'"
   ]
  },
  {
   "cell_type": "code",
   "execution_count": 142,
   "metadata": {},
   "outputs": [
    {
     "name": "stdout",
     "output_type": "stream",
     "text": [
      "CPU times: user 4.01 s, sys: 2.79 s, total: 6.8 s\n",
      "Wall time: 10.3 s\n"
     ]
    },
    {
     "data": {
      "text/html": [
       "<div>\n",
       "<style scoped>\n",
       "    .dataframe tbody tr th:only-of-type {\n",
       "        vertical-align: middle;\n",
       "    }\n",
       "\n",
       "    .dataframe tbody tr th {\n",
       "        vertical-align: top;\n",
       "    }\n",
       "\n",
       "    .dataframe thead th {\n",
       "        text-align: right;\n",
       "    }\n",
       "</style>\n",
       "<table border=\"1\" class=\"dataframe\">\n",
       "  <thead>\n",
       "    <tr style=\"text-align: right;\">\n",
       "      <th></th>\n",
       "      <th>address</th>\n",
       "      <th>attributes</th>\n",
       "      <th>business_id</th>\n",
       "      <th>categories</th>\n",
       "      <th>city</th>\n",
       "      <th>hours</th>\n",
       "      <th>is_open</th>\n",
       "      <th>latitude</th>\n",
       "      <th>longitude</th>\n",
       "      <th>name</th>\n",
       "      <th>postal_code</th>\n",
       "      <th>review_count</th>\n",
       "      <th>stars</th>\n",
       "      <th>state</th>\n",
       "    </tr>\n",
       "  </thead>\n",
       "  <tbody>\n",
       "    <tr>\n",
       "      <th>0</th>\n",
       "      <td>2818 E Camino Acequia Drive</td>\n",
       "      <td>{'GoodForKids': 'False'}</td>\n",
       "      <td>1SWheh84yJXfytovILXOAQ</td>\n",
       "      <td>Golf, Active Life</td>\n",
       "      <td>Phoenix</td>\n",
       "      <td>None</td>\n",
       "      <td>0</td>\n",
       "      <td>33.522143</td>\n",
       "      <td>-112.018481</td>\n",
       "      <td>Arizona Biltmore Golf Club</td>\n",
       "      <td>85016</td>\n",
       "      <td>5</td>\n",
       "      <td>3.0</td>\n",
       "      <td>AZ</td>\n",
       "    </tr>\n",
       "    <tr>\n",
       "      <th>1</th>\n",
       "      <td>30 Eglinton Avenue W</td>\n",
       "      <td>{'RestaurantsReservations': 'True', 'GoodForMe...</td>\n",
       "      <td>QXAEGFB4oINsVuTFxEYKFQ</td>\n",
       "      <td>Specialty Food, Restaurants, Dim Sum, Imported...</td>\n",
       "      <td>Mississauga</td>\n",
       "      <td>{'Monday': '9:0-0:0', 'Tuesday': '9:0-0:0', 'W...</td>\n",
       "      <td>1</td>\n",
       "      <td>43.605499</td>\n",
       "      <td>-79.652289</td>\n",
       "      <td>Emerald Chinese Restaurant</td>\n",
       "      <td>L5R 3E7</td>\n",
       "      <td>128</td>\n",
       "      <td>2.5</td>\n",
       "      <td>ON</td>\n",
       "    </tr>\n",
       "    <tr>\n",
       "      <th>2</th>\n",
       "      <td>10110 Johnston Rd, Ste 15</td>\n",
       "      <td>{'GoodForKids': 'True', 'NoiseLevel': 'u'avera...</td>\n",
       "      <td>gnKjwL_1w79qoiV3IC_xQQ</td>\n",
       "      <td>Sushi Bars, Restaurants, Japanese</td>\n",
       "      <td>Charlotte</td>\n",
       "      <td>{'Monday': '17:30-21:30', 'Wednesday': '17:30-...</td>\n",
       "      <td>1</td>\n",
       "      <td>35.092564</td>\n",
       "      <td>-80.859132</td>\n",
       "      <td>Musashi Japanese Restaurant</td>\n",
       "      <td>28210</td>\n",
       "      <td>170</td>\n",
       "      <td>4.0</td>\n",
       "      <td>NC</td>\n",
       "    </tr>\n",
       "    <tr>\n",
       "      <th>3</th>\n",
       "      <td>15655 W Roosevelt St, Ste 237</td>\n",
       "      <td>None</td>\n",
       "      <td>xvX2CttrVhyG2z1dFg_0xw</td>\n",
       "      <td>Insurance, Financial Services</td>\n",
       "      <td>Goodyear</td>\n",
       "      <td>{'Monday': '8:0-17:0', 'Tuesday': '8:0-17:0', ...</td>\n",
       "      <td>1</td>\n",
       "      <td>33.455613</td>\n",
       "      <td>-112.395596</td>\n",
       "      <td>Farmers Insurance - Paul Lorenz</td>\n",
       "      <td>85338</td>\n",
       "      <td>3</td>\n",
       "      <td>5.0</td>\n",
       "      <td>AZ</td>\n",
       "    </tr>\n",
       "    <tr>\n",
       "      <th>4</th>\n",
       "      <td>4209 Stuart Andrew Blvd, Ste F</td>\n",
       "      <td>{'BusinessAcceptsBitcoin': 'False', 'ByAppoint...</td>\n",
       "      <td>HhyxOkGAM07SRYtlQ4wMFQ</td>\n",
       "      <td>Plumbing, Shopping, Local Services, Home Servi...</td>\n",
       "      <td>Charlotte</td>\n",
       "      <td>{'Monday': '7:0-23:0', 'Tuesday': '7:0-23:0', ...</td>\n",
       "      <td>1</td>\n",
       "      <td>35.190012</td>\n",
       "      <td>-80.887223</td>\n",
       "      <td>Queen City Plumbing</td>\n",
       "      <td>28217</td>\n",
       "      <td>4</td>\n",
       "      <td>4.0</td>\n",
       "      <td>NC</td>\n",
       "    </tr>\n",
       "  </tbody>\n",
       "</table>\n",
       "</div>"
      ],
      "text/plain": [
       "                          address  \\\n",
       "0     2818 E Camino Acequia Drive   \n",
       "1            30 Eglinton Avenue W   \n",
       "2       10110 Johnston Rd, Ste 15   \n",
       "3   15655 W Roosevelt St, Ste 237   \n",
       "4  4209 Stuart Andrew Blvd, Ste F   \n",
       "\n",
       "                                          attributes             business_id  \\\n",
       "0                           {'GoodForKids': 'False'}  1SWheh84yJXfytovILXOAQ   \n",
       "1  {'RestaurantsReservations': 'True', 'GoodForMe...  QXAEGFB4oINsVuTFxEYKFQ   \n",
       "2  {'GoodForKids': 'True', 'NoiseLevel': 'u'avera...  gnKjwL_1w79qoiV3IC_xQQ   \n",
       "3                                               None  xvX2CttrVhyG2z1dFg_0xw   \n",
       "4  {'BusinessAcceptsBitcoin': 'False', 'ByAppoint...  HhyxOkGAM07SRYtlQ4wMFQ   \n",
       "\n",
       "                                          categories         city  \\\n",
       "0                                  Golf, Active Life      Phoenix   \n",
       "1  Specialty Food, Restaurants, Dim Sum, Imported...  Mississauga   \n",
       "2                  Sushi Bars, Restaurants, Japanese    Charlotte   \n",
       "3                      Insurance, Financial Services     Goodyear   \n",
       "4  Plumbing, Shopping, Local Services, Home Servi...    Charlotte   \n",
       "\n",
       "                                               hours  is_open   latitude  \\\n",
       "0                                               None        0  33.522143   \n",
       "1  {'Monday': '9:0-0:0', 'Tuesday': '9:0-0:0', 'W...        1  43.605499   \n",
       "2  {'Monday': '17:30-21:30', 'Wednesday': '17:30-...        1  35.092564   \n",
       "3  {'Monday': '8:0-17:0', 'Tuesday': '8:0-17:0', ...        1  33.455613   \n",
       "4  {'Monday': '7:0-23:0', 'Tuesday': '7:0-23:0', ...        1  35.190012   \n",
       "\n",
       "    longitude                             name postal_code  review_count  \\\n",
       "0 -112.018481       Arizona Biltmore Golf Club       85016             5   \n",
       "1  -79.652289       Emerald Chinese Restaurant     L5R 3E7           128   \n",
       "2  -80.859132      Musashi Japanese Restaurant       28210           170   \n",
       "3 -112.395596  Farmers Insurance - Paul Lorenz       85338             3   \n",
       "4  -80.887223              Queen City Plumbing       28217             4   \n",
       "\n",
       "   stars state  \n",
       "0    3.0    AZ  \n",
       "1    2.5    ON  \n",
       "2    4.0    NC  \n",
       "3    5.0    AZ  \n",
       "4    4.0    NC  "
      ]
     },
     "execution_count": 142,
     "metadata": {},
     "output_type": "execute_result"
    }
   ],
   "source": [
    "%%time\n",
    "biz_df = pd.concat(pd.read_json(PATH + 'business.json', lines=True, chunksize=CHUNK_SIZE))\n",
    "biz_df.head()"
   ]
  },
  {
   "cell_type": "code",
   "execution_count": 143,
   "metadata": {},
   "outputs": [
    {
     "data": {
      "text/html": [
       "<div>\n",
       "<style scoped>\n",
       "    .dataframe tbody tr th:only-of-type {\n",
       "        vertical-align: middle;\n",
       "    }\n",
       "\n",
       "    .dataframe tbody tr th {\n",
       "        vertical-align: top;\n",
       "    }\n",
       "\n",
       "    .dataframe thead th {\n",
       "        text-align: right;\n",
       "    }\n",
       "</style>\n",
       "<table border=\"1\" class=\"dataframe\">\n",
       "  <thead>\n",
       "    <tr style=\"text-align: right;\">\n",
       "      <th></th>\n",
       "      <th>address</th>\n",
       "      <th>attributes</th>\n",
       "      <th>categories</th>\n",
       "      <th>city</th>\n",
       "      <th>hours</th>\n",
       "      <th>is_open</th>\n",
       "      <th>latitude</th>\n",
       "      <th>longitude</th>\n",
       "      <th>name</th>\n",
       "      <th>postal_code</th>\n",
       "      <th>review_count</th>\n",
       "      <th>stars</th>\n",
       "      <th>state</th>\n",
       "    </tr>\n",
       "    <tr>\n",
       "      <th>business_id</th>\n",
       "      <th></th>\n",
       "      <th></th>\n",
       "      <th></th>\n",
       "      <th></th>\n",
       "      <th></th>\n",
       "      <th></th>\n",
       "      <th></th>\n",
       "      <th></th>\n",
       "      <th></th>\n",
       "      <th></th>\n",
       "      <th></th>\n",
       "      <th></th>\n",
       "      <th></th>\n",
       "    </tr>\n",
       "  </thead>\n",
       "  <tbody>\n",
       "    <tr>\n",
       "      <th>1SWheh84yJXfytovILXOAQ</th>\n",
       "      <td>2818 E Camino Acequia Drive</td>\n",
       "      <td>{'GoodForKids': 'False'}</td>\n",
       "      <td>Golf, Active Life</td>\n",
       "      <td>Phoenix</td>\n",
       "      <td>None</td>\n",
       "      <td>0</td>\n",
       "      <td>33.522143</td>\n",
       "      <td>-112.018481</td>\n",
       "      <td>Arizona Biltmore Golf Club</td>\n",
       "      <td>85016</td>\n",
       "      <td>5</td>\n",
       "      <td>3.0</td>\n",
       "      <td>AZ</td>\n",
       "    </tr>\n",
       "    <tr>\n",
       "      <th>QXAEGFB4oINsVuTFxEYKFQ</th>\n",
       "      <td>30 Eglinton Avenue W</td>\n",
       "      <td>{'RestaurantsReservations': 'True', 'GoodForMe...</td>\n",
       "      <td>Specialty Food, Restaurants, Dim Sum, Imported...</td>\n",
       "      <td>Mississauga</td>\n",
       "      <td>{'Monday': '9:0-0:0', 'Tuesday': '9:0-0:0', 'W...</td>\n",
       "      <td>1</td>\n",
       "      <td>43.605499</td>\n",
       "      <td>-79.652289</td>\n",
       "      <td>Emerald Chinese Restaurant</td>\n",
       "      <td>L5R 3E7</td>\n",
       "      <td>128</td>\n",
       "      <td>2.5</td>\n",
       "      <td>ON</td>\n",
       "    </tr>\n",
       "    <tr>\n",
       "      <th>gnKjwL_1w79qoiV3IC_xQQ</th>\n",
       "      <td>10110 Johnston Rd, Ste 15</td>\n",
       "      <td>{'GoodForKids': 'True', 'NoiseLevel': 'u'avera...</td>\n",
       "      <td>Sushi Bars, Restaurants, Japanese</td>\n",
       "      <td>Charlotte</td>\n",
       "      <td>{'Monday': '17:30-21:30', 'Wednesday': '17:30-...</td>\n",
       "      <td>1</td>\n",
       "      <td>35.092564</td>\n",
       "      <td>-80.859132</td>\n",
       "      <td>Musashi Japanese Restaurant</td>\n",
       "      <td>28210</td>\n",
       "      <td>170</td>\n",
       "      <td>4.0</td>\n",
       "      <td>NC</td>\n",
       "    </tr>\n",
       "    <tr>\n",
       "      <th>xvX2CttrVhyG2z1dFg_0xw</th>\n",
       "      <td>15655 W Roosevelt St, Ste 237</td>\n",
       "      <td>None</td>\n",
       "      <td>Insurance, Financial Services</td>\n",
       "      <td>Goodyear</td>\n",
       "      <td>{'Monday': '8:0-17:0', 'Tuesday': '8:0-17:0', ...</td>\n",
       "      <td>1</td>\n",
       "      <td>33.455613</td>\n",
       "      <td>-112.395596</td>\n",
       "      <td>Farmers Insurance - Paul Lorenz</td>\n",
       "      <td>85338</td>\n",
       "      <td>3</td>\n",
       "      <td>5.0</td>\n",
       "      <td>AZ</td>\n",
       "    </tr>\n",
       "    <tr>\n",
       "      <th>HhyxOkGAM07SRYtlQ4wMFQ</th>\n",
       "      <td>4209 Stuart Andrew Blvd, Ste F</td>\n",
       "      <td>{'BusinessAcceptsBitcoin': 'False', 'ByAppoint...</td>\n",
       "      <td>Plumbing, Shopping, Local Services, Home Servi...</td>\n",
       "      <td>Charlotte</td>\n",
       "      <td>{'Monday': '7:0-23:0', 'Tuesday': '7:0-23:0', ...</td>\n",
       "      <td>1</td>\n",
       "      <td>35.190012</td>\n",
       "      <td>-80.887223</td>\n",
       "      <td>Queen City Plumbing</td>\n",
       "      <td>28217</td>\n",
       "      <td>4</td>\n",
       "      <td>4.0</td>\n",
       "      <td>NC</td>\n",
       "    </tr>\n",
       "  </tbody>\n",
       "</table>\n",
       "</div>"
      ],
      "text/plain": [
       "                                               address  \\\n",
       "business_id                                              \n",
       "1SWheh84yJXfytovILXOAQ     2818 E Camino Acequia Drive   \n",
       "QXAEGFB4oINsVuTFxEYKFQ            30 Eglinton Avenue W   \n",
       "gnKjwL_1w79qoiV3IC_xQQ       10110 Johnston Rd, Ste 15   \n",
       "xvX2CttrVhyG2z1dFg_0xw   15655 W Roosevelt St, Ste 237   \n",
       "HhyxOkGAM07SRYtlQ4wMFQ  4209 Stuart Andrew Blvd, Ste F   \n",
       "\n",
       "                                                               attributes  \\\n",
       "business_id                                                                 \n",
       "1SWheh84yJXfytovILXOAQ                           {'GoodForKids': 'False'}   \n",
       "QXAEGFB4oINsVuTFxEYKFQ  {'RestaurantsReservations': 'True', 'GoodForMe...   \n",
       "gnKjwL_1w79qoiV3IC_xQQ  {'GoodForKids': 'True', 'NoiseLevel': 'u'avera...   \n",
       "xvX2CttrVhyG2z1dFg_0xw                                               None   \n",
       "HhyxOkGAM07SRYtlQ4wMFQ  {'BusinessAcceptsBitcoin': 'False', 'ByAppoint...   \n",
       "\n",
       "                                                               categories  \\\n",
       "business_id                                                                 \n",
       "1SWheh84yJXfytovILXOAQ                                  Golf, Active Life   \n",
       "QXAEGFB4oINsVuTFxEYKFQ  Specialty Food, Restaurants, Dim Sum, Imported...   \n",
       "gnKjwL_1w79qoiV3IC_xQQ                  Sushi Bars, Restaurants, Japanese   \n",
       "xvX2CttrVhyG2z1dFg_0xw                      Insurance, Financial Services   \n",
       "HhyxOkGAM07SRYtlQ4wMFQ  Plumbing, Shopping, Local Services, Home Servi...   \n",
       "\n",
       "                               city  \\\n",
       "business_id                           \n",
       "1SWheh84yJXfytovILXOAQ      Phoenix   \n",
       "QXAEGFB4oINsVuTFxEYKFQ  Mississauga   \n",
       "gnKjwL_1w79qoiV3IC_xQQ    Charlotte   \n",
       "xvX2CttrVhyG2z1dFg_0xw     Goodyear   \n",
       "HhyxOkGAM07SRYtlQ4wMFQ    Charlotte   \n",
       "\n",
       "                                                                    hours  \\\n",
       "business_id                                                                 \n",
       "1SWheh84yJXfytovILXOAQ                                               None   \n",
       "QXAEGFB4oINsVuTFxEYKFQ  {'Monday': '9:0-0:0', 'Tuesday': '9:0-0:0', 'W...   \n",
       "gnKjwL_1w79qoiV3IC_xQQ  {'Monday': '17:30-21:30', 'Wednesday': '17:30-...   \n",
       "xvX2CttrVhyG2z1dFg_0xw  {'Monday': '8:0-17:0', 'Tuesday': '8:0-17:0', ...   \n",
       "HhyxOkGAM07SRYtlQ4wMFQ  {'Monday': '7:0-23:0', 'Tuesday': '7:0-23:0', ...   \n",
       "\n",
       "                        is_open   latitude   longitude  \\\n",
       "business_id                                              \n",
       "1SWheh84yJXfytovILXOAQ        0  33.522143 -112.018481   \n",
       "QXAEGFB4oINsVuTFxEYKFQ        1  43.605499  -79.652289   \n",
       "gnKjwL_1w79qoiV3IC_xQQ        1  35.092564  -80.859132   \n",
       "xvX2CttrVhyG2z1dFg_0xw        1  33.455613 -112.395596   \n",
       "HhyxOkGAM07SRYtlQ4wMFQ        1  35.190012  -80.887223   \n",
       "\n",
       "                                                   name postal_code  \\\n",
       "business_id                                                           \n",
       "1SWheh84yJXfytovILXOAQ       Arizona Biltmore Golf Club       85016   \n",
       "QXAEGFB4oINsVuTFxEYKFQ       Emerald Chinese Restaurant     L5R 3E7   \n",
       "gnKjwL_1w79qoiV3IC_xQQ      Musashi Japanese Restaurant       28210   \n",
       "xvX2CttrVhyG2z1dFg_0xw  Farmers Insurance - Paul Lorenz       85338   \n",
       "HhyxOkGAM07SRYtlQ4wMFQ              Queen City Plumbing       28217   \n",
       "\n",
       "                        review_count  stars state  \n",
       "business_id                                        \n",
       "1SWheh84yJXfytovILXOAQ             5    3.0    AZ  \n",
       "QXAEGFB4oINsVuTFxEYKFQ           128    2.5    ON  \n",
       "gnKjwL_1w79qoiV3IC_xQQ           170    4.0    NC  \n",
       "xvX2CttrVhyG2z1dFg_0xw             3    5.0    AZ  \n",
       "HhyxOkGAM07SRYtlQ4wMFQ             4    4.0    NC  "
      ]
     },
     "execution_count": 143,
     "metadata": {},
     "output_type": "execute_result"
    }
   ],
   "source": [
    "biz_df = biz_df.set_index('business_id')\n",
    "biz_df.head()"
   ]
  },
  {
   "cell_type": "code",
   "execution_count": 144,
   "metadata": {},
   "outputs": [
    {
     "name": "stdout",
     "output_type": "stream",
     "text": [
      "CPU times: user 1min 38s, sys: 31.8 s, total: 2min 10s\n",
      "Wall time: 2min 21s\n"
     ]
    }
   ],
   "source": [
    "%%time\n",
    "review_df = pd.concat(pd.read_json(PATH + 'review.json', lines=True, chunksize=CHUNK_SIZE))\n",
    "review_df = review_df.set_index('review_id')"
   ]
  },
  {
   "cell_type": "code",
   "execution_count": 145,
   "metadata": {},
   "outputs": [
    {
     "name": "stdout",
     "output_type": "stream",
     "text": [
      "CPU times: user 40.9 s, sys: 10.8 s, total: 51.7 s\n",
      "Wall time: 53.1 s\n"
     ]
    }
   ],
   "source": [
    "%%time\n",
    "user_df = pd.concat(pd.read_json(PATH + 'user.json', lines=True, chunksize=CHUNK_SIZE))\n",
    "user_df = user_df.set_index('user_id')"
   ]
  },
  {
   "cell_type": "markdown",
   "metadata": {},
   "source": [
    "## Useful Functions to Explore the DataFrames\n",
    "`review_df.head()`: Print top rows in the data frame.\n",
    "\n",
    "`review_df.describe()`: Generate various summary statistics, mean, max, count, etc."
   ]
  },
  {
   "cell_type": "code",
   "execution_count": 146,
   "metadata": {},
   "outputs": [
    {
     "data": {
      "text/html": [
       "<div>\n",
       "<style scoped>\n",
       "    .dataframe tbody tr th:only-of-type {\n",
       "        vertical-align: middle;\n",
       "    }\n",
       "\n",
       "    .dataframe tbody tr th {\n",
       "        vertical-align: top;\n",
       "    }\n",
       "\n",
       "    .dataframe thead th {\n",
       "        text-align: right;\n",
       "    }\n",
       "</style>\n",
       "<table border=\"1\" class=\"dataframe\">\n",
       "  <thead>\n",
       "    <tr style=\"text-align: right;\">\n",
       "      <th></th>\n",
       "      <th>business_id</th>\n",
       "      <th>cool</th>\n",
       "      <th>date</th>\n",
       "      <th>funny</th>\n",
       "      <th>stars</th>\n",
       "      <th>text</th>\n",
       "      <th>useful</th>\n",
       "      <th>user_id</th>\n",
       "    </tr>\n",
       "    <tr>\n",
       "      <th>review_id</th>\n",
       "      <th></th>\n",
       "      <th></th>\n",
       "      <th></th>\n",
       "      <th></th>\n",
       "      <th></th>\n",
       "      <th></th>\n",
       "      <th></th>\n",
       "      <th></th>\n",
       "    </tr>\n",
       "  </thead>\n",
       "  <tbody>\n",
       "    <tr>\n",
       "      <th>Q1sbwvVQXV2734tPgoKj4Q</th>\n",
       "      <td>ujmEBvifdJM6h6RLv4wQIg</td>\n",
       "      <td>0</td>\n",
       "      <td>2013-05-07 04:34:36</td>\n",
       "      <td>1</td>\n",
       "      <td>1</td>\n",
       "      <td>Total bill for this horrible service? Over $8G...</td>\n",
       "      <td>6</td>\n",
       "      <td>hG7b0MtEbXx5QzbzE6C_VA</td>\n",
       "    </tr>\n",
       "    <tr>\n",
       "      <th>GJXCdrto3ASJOqKeVWPi6Q</th>\n",
       "      <td>NZnhc2sEQy3RmzKTZnqtwQ</td>\n",
       "      <td>0</td>\n",
       "      <td>2017-01-14 21:30:33</td>\n",
       "      <td>0</td>\n",
       "      <td>5</td>\n",
       "      <td>I *adore* Travis at the Hard Rock's new Kelly ...</td>\n",
       "      <td>0</td>\n",
       "      <td>yXQM5uF2jS6es16SJzNHfg</td>\n",
       "    </tr>\n",
       "    <tr>\n",
       "      <th>2TzJjDVDEuAW6MR5Vuc1ug</th>\n",
       "      <td>WTqjgwHlXbSFevF32_DJVw</td>\n",
       "      <td>0</td>\n",
       "      <td>2016-11-09 20:09:03</td>\n",
       "      <td>0</td>\n",
       "      <td>5</td>\n",
       "      <td>I have to say that this office really has it t...</td>\n",
       "      <td>3</td>\n",
       "      <td>n6-Gk65cPZL6Uz8qRm3NYw</td>\n",
       "    </tr>\n",
       "    <tr>\n",
       "      <th>yi0R0Ugj_xUx_Nek0-_Qig</th>\n",
       "      <td>ikCg8xy5JIg_NGPx-MSIDA</td>\n",
       "      <td>0</td>\n",
       "      <td>2018-01-09 20:56:38</td>\n",
       "      <td>0</td>\n",
       "      <td>5</td>\n",
       "      <td>Went in for a lunch. Steak sandwich was delici...</td>\n",
       "      <td>0</td>\n",
       "      <td>dacAIZ6fTM6mqwW5uxkskg</td>\n",
       "    </tr>\n",
       "    <tr>\n",
       "      <th>11a8sVPMUFtaC7_ABRkmtw</th>\n",
       "      <td>b1b1eb3uo-w561D0ZfCEiQ</td>\n",
       "      <td>0</td>\n",
       "      <td>2018-01-30 23:07:38</td>\n",
       "      <td>0</td>\n",
       "      <td>1</td>\n",
       "      <td>Today was my second out of three sessions I ha...</td>\n",
       "      <td>7</td>\n",
       "      <td>ssoyf2_x0EQMed6fgHeMyQ</td>\n",
       "    </tr>\n",
       "  </tbody>\n",
       "</table>\n",
       "</div>"
      ],
      "text/plain": [
       "                                   business_id  cool                date  \\\n",
       "review_id                                                                  \n",
       "Q1sbwvVQXV2734tPgoKj4Q  ujmEBvifdJM6h6RLv4wQIg     0 2013-05-07 04:34:36   \n",
       "GJXCdrto3ASJOqKeVWPi6Q  NZnhc2sEQy3RmzKTZnqtwQ     0 2017-01-14 21:30:33   \n",
       "2TzJjDVDEuAW6MR5Vuc1ug  WTqjgwHlXbSFevF32_DJVw     0 2016-11-09 20:09:03   \n",
       "yi0R0Ugj_xUx_Nek0-_Qig  ikCg8xy5JIg_NGPx-MSIDA     0 2018-01-09 20:56:38   \n",
       "11a8sVPMUFtaC7_ABRkmtw  b1b1eb3uo-w561D0ZfCEiQ     0 2018-01-30 23:07:38   \n",
       "\n",
       "                        funny  stars  \\\n",
       "review_id                              \n",
       "Q1sbwvVQXV2734tPgoKj4Q      1      1   \n",
       "GJXCdrto3ASJOqKeVWPi6Q      0      5   \n",
       "2TzJjDVDEuAW6MR5Vuc1ug      0      5   \n",
       "yi0R0Ugj_xUx_Nek0-_Qig      0      5   \n",
       "11a8sVPMUFtaC7_ABRkmtw      0      1   \n",
       "\n",
       "                                                                     text  \\\n",
       "review_id                                                                   \n",
       "Q1sbwvVQXV2734tPgoKj4Q  Total bill for this horrible service? Over $8G...   \n",
       "GJXCdrto3ASJOqKeVWPi6Q  I *adore* Travis at the Hard Rock's new Kelly ...   \n",
       "2TzJjDVDEuAW6MR5Vuc1ug  I have to say that this office really has it t...   \n",
       "yi0R0Ugj_xUx_Nek0-_Qig  Went in for a lunch. Steak sandwich was delici...   \n",
       "11a8sVPMUFtaC7_ABRkmtw  Today was my second out of three sessions I ha...   \n",
       "\n",
       "                        useful                 user_id  \n",
       "review_id                                               \n",
       "Q1sbwvVQXV2734tPgoKj4Q       6  hG7b0MtEbXx5QzbzE6C_VA  \n",
       "GJXCdrto3ASJOqKeVWPi6Q       0  yXQM5uF2jS6es16SJzNHfg  \n",
       "2TzJjDVDEuAW6MR5Vuc1ug       3  n6-Gk65cPZL6Uz8qRm3NYw  \n",
       "yi0R0Ugj_xUx_Nek0-_Qig       0  dacAIZ6fTM6mqwW5uxkskg  \n",
       "11a8sVPMUFtaC7_ABRkmtw       7  ssoyf2_x0EQMed6fgHeMyQ  "
      ]
     },
     "execution_count": 146,
     "metadata": {},
     "output_type": "execute_result"
    }
   ],
   "source": [
    "review_df.head()"
   ]
  },
  {
   "cell_type": "code",
   "execution_count": 147,
   "metadata": {},
   "outputs": [
    {
     "data": {
      "text/plain": [
       "business_id            object\n",
       "cool                    int64\n",
       "date           datetime64[ns]\n",
       "funny                   int64\n",
       "stars                   int64\n",
       "text                   object\n",
       "useful                  int64\n",
       "user_id                object\n",
       "dtype: object"
      ]
     },
     "execution_count": 147,
     "metadata": {},
     "output_type": "execute_result"
    }
   ],
   "source": [
    "review_df.dtypes"
   ]
  },
  {
   "cell_type": "code",
   "execution_count": 148,
   "metadata": {},
   "outputs": [
    {
     "data": {
      "text/html": [
       "<div>\n",
       "<style scoped>\n",
       "    .dataframe tbody tr th:only-of-type {\n",
       "        vertical-align: middle;\n",
       "    }\n",
       "\n",
       "    .dataframe tbody tr th {\n",
       "        vertical-align: top;\n",
       "    }\n",
       "\n",
       "    .dataframe thead th {\n",
       "        text-align: right;\n",
       "    }\n",
       "</style>\n",
       "<table border=\"1\" class=\"dataframe\">\n",
       "  <thead>\n",
       "    <tr style=\"text-align: right;\">\n",
       "      <th></th>\n",
       "      <th>cool</th>\n",
       "      <th>funny</th>\n",
       "      <th>stars</th>\n",
       "      <th>useful</th>\n",
       "    </tr>\n",
       "  </thead>\n",
       "  <tbody>\n",
       "    <tr>\n",
       "      <th>count</th>\n",
       "      <td>6.685900e+06</td>\n",
       "      <td>6.685900e+06</td>\n",
       "      <td>6.685900e+06</td>\n",
       "      <td>6.685900e+06</td>\n",
       "    </tr>\n",
       "    <tr>\n",
       "      <th>mean</th>\n",
       "      <td>5.787708e-01</td>\n",
       "      <td>4.827667e-01</td>\n",
       "      <td>3.716199e+00</td>\n",
       "      <td>1.354134e+00</td>\n",
       "    </tr>\n",
       "    <tr>\n",
       "      <th>std</th>\n",
       "      <td>2.359024e+00</td>\n",
       "      <td>2.378646e+00</td>\n",
       "      <td>1.463643e+00</td>\n",
       "      <td>3.700192e+00</td>\n",
       "    </tr>\n",
       "    <tr>\n",
       "      <th>min</th>\n",
       "      <td>-1.000000e+00</td>\n",
       "      <td>0.000000e+00</td>\n",
       "      <td>1.000000e+00</td>\n",
       "      <td>-1.000000e+00</td>\n",
       "    </tr>\n",
       "    <tr>\n",
       "      <th>25%</th>\n",
       "      <td>0.000000e+00</td>\n",
       "      <td>0.000000e+00</td>\n",
       "      <td>3.000000e+00</td>\n",
       "      <td>0.000000e+00</td>\n",
       "    </tr>\n",
       "    <tr>\n",
       "      <th>50%</th>\n",
       "      <td>0.000000e+00</td>\n",
       "      <td>0.000000e+00</td>\n",
       "      <td>4.000000e+00</td>\n",
       "      <td>0.000000e+00</td>\n",
       "    </tr>\n",
       "    <tr>\n",
       "      <th>75%</th>\n",
       "      <td>1.000000e+00</td>\n",
       "      <td>0.000000e+00</td>\n",
       "      <td>5.000000e+00</td>\n",
       "      <td>2.000000e+00</td>\n",
       "    </tr>\n",
       "    <tr>\n",
       "      <th>max</th>\n",
       "      <td>5.060000e+02</td>\n",
       "      <td>1.290000e+03</td>\n",
       "      <td>5.000000e+00</td>\n",
       "      <td>1.241000e+03</td>\n",
       "    </tr>\n",
       "  </tbody>\n",
       "</table>\n",
       "</div>"
      ],
      "text/plain": [
       "               cool         funny         stars        useful\n",
       "count  6.685900e+06  6.685900e+06  6.685900e+06  6.685900e+06\n",
       "mean   5.787708e-01  4.827667e-01  3.716199e+00  1.354134e+00\n",
       "std    2.359024e+00  2.378646e+00  1.463643e+00  3.700192e+00\n",
       "min   -1.000000e+00  0.000000e+00  1.000000e+00 -1.000000e+00\n",
       "25%    0.000000e+00  0.000000e+00  3.000000e+00  0.000000e+00\n",
       "50%    0.000000e+00  0.000000e+00  4.000000e+00  0.000000e+00\n",
       "75%    1.000000e+00  0.000000e+00  5.000000e+00  2.000000e+00\n",
       "max    5.060000e+02  1.290000e+03  5.000000e+00  1.241000e+03"
      ]
     },
     "execution_count": 148,
     "metadata": {},
     "output_type": "execute_result"
    }
   ],
   "source": [
    "review_df.describe()"
   ]
  },
  {
   "cell_type": "code",
   "execution_count": 149,
   "metadata": {
    "scrolled": true
   },
   "outputs": [
    {
     "data": {
      "text/plain": [
       "count    6685900.000000\n",
       "mean           0.578771\n",
       "std            2.359024\n",
       "min           -1.000000\n",
       "25%            0.000000\n",
       "50%            0.000000\n",
       "75%            1.000000\n",
       "max          506.000000\n",
       "Name: cool, dtype: object"
      ]
     },
     "execution_count": 149,
     "metadata": {},
     "output_type": "execute_result"
    }
   ],
   "source": [
    "review_df.cool.describe().apply(lambda x: format(x, 'f'))"
   ]
  },
  {
   "cell_type": "markdown",
   "metadata": {},
   "source": [
    "# Step 2: Explore & Visualize the Data"
   ]
  },
  {
   "cell_type": "markdown",
   "metadata": {},
   "source": [
    "## Example 1: Plot Review Star Rating Distribution\n",
    "\n",
    "First ask yourself this question: \n",
    "\n",
    "Among all the reviews available in the dataset, what percentage of them are 5 star? \n",
    "\n",
    "One common mis-conception about Yelp, is that folks only come to Yelp to complaint about their negative experiences with a business, so most of the reviews \"should\" be low rating. \n",
    "\n",
    "However, this is a misconception, according to the below graph we plot, using the Yelp Open Dataset."
   ]
  },
  {
   "cell_type": "code",
   "execution_count": 150,
   "metadata": {},
   "outputs": [
    {
     "data": {
      "image/png": "[encoded data removed]",
      "text/plain": [
       "<Figure size 432x288 with 1 Axes>"
      ]
     },
     "metadata": {
      "needs_background": "light"
     },
     "output_type": "display_data"
    }
   ],
   "source": [
    "import seaborn as sns\n",
    "%matplotlib inline\n",
    "\n",
    "ax = sns.countplot(x='stars', data=review_df)"
   ]
  },
  {
   "cell_type": "markdown",
   "metadata": {},
   "source": [
    "## Example 2: Plot Review Star Rating Distribution by year\n",
    "\n",
    "From below graph,\n",
    "- healthy growth over the years, on the amount of reviews people wrote every year. \n",
    "- later years, there seems to be a shift towards 5 star reviews. "
   ]
  },
  {
   "cell_type": "code",
   "execution_count": 151,
   "metadata": {
    "scrolled": false
   },
   "outputs": [
    {
     "data": {
      "image/png": "[encoded data removed]",
      "text/plain": [
       "<Figure size 1080x576 with 1 Axes>"
      ]
     },
     "metadata": {},
     "output_type": "display_data"
    }
   ],
   "source": [
    "# Set context to \"talk\" for figure aesthetics \n",
    "sns.set_context(context=\"talk\")\n",
    "# set plot figure size to larger\n",
    "sns.set(palette='Set2', rc={\"figure.figsize\": (15, 8)}, style=\"ticks\")\n",
    "\n",
    "# Convert to datetime dtype so we can strip out the year\n",
    "review_df['year'] = pd.to_datetime(review_df['date']).dt.year\n",
    "ax = sns.countplot(x='year', data=review_df, hue='stars')\n",
    "# Removing spines\n",
    "sns.despine()\n",
    "\n",
    "# clean up\n",
    "review_df.drop(['year'], axis=1, inplace=True)"
   ]
  },
  {
   "cell_type": "markdown",
   "metadata": {},
   "source": [
    "# Step 3: Generate the Features\n",
    "\n",
    "# 3.1 Examples Feature Extractions & Conversions\n",
    "\n",
    "- Convert date string to date delta\n",
    "  - For example, `business_age`\n",
    "- Convert strings to categorical features\n",
    "  - For example, `noise_level`: `{'quiet', 'loud', 'very loud'}`.\n",
    "- Drop unused features\n",
    "  - For example, `business_name`"
   ]
  },
  {
   "cell_type": "code",
   "execution_count": 152,
   "metadata": {},
   "outputs": [],
   "source": [
    "# compute days in between date and max value in date\n",
    "def calculate_date_delta(df, column):\n",
    "    to_column = column + '_delta'\n",
    "    datetime = pd.to_datetime(df[column])\n",
    "    time_delta = datetime.max() - datetime\n",
    "    df[to_column] = time_delta.apply(lambda x: x.days)\n",
    "    df.drop(column, axis=1, inplace=True)"
   ]
  },
  {
   "cell_type": "code",
   "execution_count": 153,
   "metadata": {},
   "outputs": [],
   "source": [
    "# compute length of string\n",
    "def to_length(df, column):\n",
    "    to_column = column + '_len'\n",
    "    df[to_column] = df[column].apply(lambda x: len(x))\n",
    "    df.drop(column, axis=1, inplace=True)"
   ]
  },
  {
   "cell_type": "code",
   "execution_count": 154,
   "metadata": {},
   "outputs": [],
   "source": [
    "def drop_columns(df, columns):\n",
    "    for column in columns:\n",
    "        df.drop(column, axis=1, inplace=True)"
   ]
  },
  {
   "cell_type": "code",
   "execution_count": 155,
   "metadata": {},
   "outputs": [],
   "source": [
    "def to_boolean(df, columns):\n",
    "    for column in columns:\n",
    "        to_column = column + '_bool'\n",
    "        df[to_column] = df[column].apply(lambda x: bool(x))\n",
    "        df.drop(column, axis=1, inplace=True)"
   ]
  },
  {
   "cell_type": "code",
   "execution_count": 156,
   "metadata": {},
   "outputs": [],
   "source": [
    "# Value used to replace NULL as Logistic Regression can't work with missing value.\n",
    "# XXX(xun): For many features, 0.0 is a legit value, hence 0.0 isn't a very good fallback value to use. Average is maybe better? \n",
    "FILL_WITH = 0.0"
   ]
  },
  {
   "cell_type": "code",
   "execution_count": 157,
   "metadata": {},
   "outputs": [],
   "source": [
    "def to_category(df, columns):\n",
    "    for column in columns:\n",
    "        df[column] = df[column].astype('category')\n",
    "        # add FILL_WITH category for fillna()\n",
    "        if (FILL_WITH not in df[column].cat.categories):\n",
    "            df[column] = df[column].cat.add_categories([FILL_WITH])\n",
    "        print(f'categories for {key} include {df[key].cat.categories}')"
   ]
  },
  {
   "cell_type": "code",
   "execution_count": 158,
   "metadata": {},
   "outputs": [],
   "source": [
    "def category_rename_to_int(df, columns):\n",
    "    for column in columns:\n",
    "        df[column].cat.remove_unused_categories()\n",
    "        size = len(df[column].cat.categories)\n",
    "        print(f'column {column} has {size} columns, including {df[column].cat.categories}')\n",
    "        df[column] = df[column].cat.rename_categories(range(1, size+1))\n",
    "        print(f'=> {df[column].cat.categories}')"
   ]
  },
  {
   "cell_type": "code",
   "execution_count": 159,
   "metadata": {},
   "outputs": [
    {
     "data": {
      "text/plain": [
       "array(['business_id', 'cool', 'funny', 'stars', 'useful', 'user_id',\n",
       "       'date_delta', 'text_len'], dtype=object)"
      ]
     },
     "execution_count": 159,
     "metadata": {},
     "output_type": "execute_result"
    }
   ],
   "source": [
    "# review df\n",
    "calculate_date_delta(df=review_df, column='date')\n",
    "to_length(df=review_df, column='text') # next round, we could run NLP (sentiment, bag of words) on the text\n",
    "review_df.fillna(value=FILL_WITH, inplace=True)\n",
    "\n",
    "review_df.columns.values"
   ]
  },
  {
   "cell_type": "code",
   "execution_count": 160,
   "metadata": {},
   "outputs": [
    {
     "data": {
      "text/plain": [
       "array(['average_stars', 'compliment_cool', 'compliment_cute',\n",
       "       'compliment_funny', 'compliment_hot', 'compliment_list',\n",
       "       'compliment_more', 'compliment_note', 'compliment_photos',\n",
       "       'compliment_plain', 'compliment_profile', 'compliment_writer',\n",
       "       'cool', 'fans', 'funny', 'review_count', 'useful',\n",
       "       'yelping_since_delta', 'friends_len', 'elite_len'], dtype=object)"
      ]
     },
     "execution_count": 160,
     "metadata": {},
     "output_type": "execute_result"
    }
   ],
   "source": [
    "# user df\n",
    "calculate_date_delta(df=user_df, column='yelping_since')\n",
    "to_length(df=user_df, column='friends')\n",
    "to_length(df=user_df, column='elite')\n",
    "drop_columns(df=user_df, columns=['name'])\n",
    "user_df.fillna(value=FILL_WITH, inplace=True)\n",
    "\n",
    "user_df.columns.values"
   ]
  },
  {
   "cell_type": "code",
   "execution_count": 161,
   "metadata": {},
   "outputs": [
    {
     "data": {
      "text/plain": [
       "array(['is_open', 'review_count', 'stars'], dtype=object)"
      ]
     },
     "execution_count": 161,
     "metadata": {},
     "output_type": "execute_result"
    }
   ],
   "source": [
    "# biz df\n",
    "drop_columns(\n",
    "    df=biz_df,\n",
    "    columns=[\n",
    "        'postal_code', # needs to convert to categorical if use as a feature\n",
    "        'name',\n",
    "        'city',\n",
    "        'address',\n",
    "        'state',\n",
    "        'categories', # can be converted to separate columns as category types\n",
    "        'longitude',\n",
    "        'latitude',\n",
    "        'hours', # can do fancy conversions to categories like 'morning', 'night', '24 hours', etc.\n",
    "        'attributes', # can be converted to separate columns as category types\n",
    "    ]\n",
    ")\n",
    "# # Split dictionary inside a Pandas Column (eg 'attributes') into Separate Columns\n",
    "# to_cat_columns = [\n",
    "#     'attributes'\n",
    "# ]\n",
    "# df_flat = pd.DataFrame(biz_df['attributes'].tolist())\n",
    "\n",
    "# to_category(\n",
    "#     df=df_flat,\n",
    "#     columns=df_flat.columns,\n",
    "# )\n",
    "# category_rename_to_int(\n",
    "#     df=biz_df,\n",
    "#     columns=to_cat_columns,\n",
    "# )\n",
    "biz_df.fillna(value=FILL_WITH, inplace=True)\n",
    "\n",
    "# # print out all the unique values, help clean up data to be float type\n",
    "# for column in biz_df.columns:\n",
    "#     print(column)\n",
    "#     print(biz_df[column])\n",
    "    \n",
    "biz_df.columns.values"
   ]
  },
  {
   "cell_type": "code",
   "execution_count": 162,
   "metadata": {},
   "outputs": [],
   "source": [
    "# rename the columns to be prefixed by the df\n",
    "def rename(df, prefix):\n",
    "    for column in df.columns.values:\n",
    "        if column in {'user_id', 'review_id', 'business_id'}:\n",
    "            continue\n",
    "        df[prefix + column] = df[column]\n",
    "        df.drop(column, axis=1, inplace=True)\n",
    "\n",
    "rename(biz_df, 'biz_')\n",
    "rename(user_df, 'user_')\n",
    "rename(review_df, 'review_')"
   ]
  },
  {
   "cell_type": "code",
   "execution_count": 163,
   "metadata": {},
   "outputs": [],
   "source": [
    "# The `user_df` DataFrame is already indexed by the join key (`user_id`). Make sure it's on the right side of join.\n",
    "review_join_user = review_df.join(user_df, on='user_id')"
   ]
  },
  {
   "cell_type": "code",
   "execution_count": 164,
   "metadata": {},
   "outputs": [],
   "source": [
    "review_join_user_join_biz = review_join_user.join(biz_df, on='business_id')"
   ]
  },
  {
   "cell_type": "code",
   "execution_count": 165,
   "metadata": {
    "scrolled": true
   },
   "outputs": [],
   "source": [
    "drop_columns(df=review_join_user_join_biz, columns=['user_id', 'business_id'])"
   ]
  },
  {
   "cell_type": "markdown",
   "metadata": {},
   "source": [
    "# Step 4: Train a Model\n",
    "\n",
    "The process of training an ML model involves providing an ML algorithm (that is, the learning algorithm) with training data to learn from. The term ML model refers to the model artifact that is created by the training process.\n",
    "\n",
    "\n",
    "## 4.1 Arrange Data into a Feature Matrix and a Target Array\n",
    "\n",
    "**Feature matrix** X: \n",
    "\n",
    "All features gathered from business, user, and review dataframes.\n",
    "\n",
    "Two-dimensional array of features with shape = (n_samples, n_features)\n",
    "\n",
    "**Target array** y: \n",
    "\n",
    "What we'd like to predict: Whether the review is Five-star or not.\n",
    "\n",
    "Array of labels with shape = (n_samples)"
   ]
  },
  {
   "cell_type": "code",
   "execution_count": 166,
   "metadata": {
    "scrolled": false
   },
   "outputs": [],
   "source": [
    "# Target y is whether a review is five-star (True / False)\n",
    "y = review_join_user_join_biz.review_stars.apply(lambda x: x == 5)\n",
    "\n",
    "# Exclude the `stars` columns from the feature matrix, since it is the target\n",
    "X = review_join_user_join_biz\n",
    "review_join_user_join_biz.drop('review_stars', axis=1, inplace=True)\n",
    "\n",
    "# get the feature names - this will be useful for the model visualization and feature analysis\n",
    "features = X.columns.values"
   ]
  },
  {
   "cell_type": "markdown",
   "metadata": {},
   "source": [
    "## 4.2 Split Training and Testing Set\n",
    "\n",
    "- Training set: used for an machine learning algorithm to train from. \n",
    "- Testing set: used to to estimate / evaluate how well the model has been trained.\n",
    "\n",
    "Split them so that we don’t evaluate on the same dataset we train from"
   ]
  },
  {
   "cell_type": "code",
   "execution_count": 167,
   "metadata": {},
   "outputs": [],
   "source": [
    "from sklearn.model_selection import train_test_split\n",
    "\n",
    "# Split the data into a training set and a test set\n",
    "X_train, X_test, y_train, y_test = train_test_split(X, y)"
   ]
  },
  {
   "cell_type": "code",
   "execution_count": 168,
   "metadata": {},
   "outputs": [
    {
     "name": "stdout",
     "output_type": "stream",
     "text": [
      "training data shape(5014425, 28)\n",
      "test data shape(1671475, 28)\n",
      "converted label data shape(5014425,)\n",
      "features['review_cool' 'review_funny' 'review_useful' 'review_date_delta'\n",
      " 'review_text_len' 'user_average_stars' 'user_compliment_cool'\n",
      " 'user_compliment_cute' 'user_compliment_funny' 'user_compliment_hot'\n",
      " 'user_compliment_list' 'user_compliment_more' 'user_compliment_note'\n",
      " 'user_compliment_photos' 'user_compliment_plain'\n",
      " 'user_compliment_profile' 'user_compliment_writer' 'user_cool'\n",
      " 'user_fans' 'user_funny' 'user_review_count' 'user_useful'\n",
      " 'user_yelping_since_delta' 'user_friends_len' 'user_elite_len'\n",
      " 'biz_is_open' 'biz_review_count' 'biz_stars']\n"
     ]
    }
   ],
   "source": [
    "print(f'training data shape{X_train.shape}')\n",
    "print(f'test data shape{X_test.shape}')\n",
    "print(f'converted label data shape{y_train.shape}')\n",
    "print(f'features{features}')"
   ]
  },
  {
   "cell_type": "markdown",
   "metadata": {},
   "source": [
    "## 4.3 What Model to Use? \n",
    "\n",
    "Some Examples\n",
    "- Decision Tree: predicts the value of a target variable by learning simple decision rules inferred from the data features\n",
    "- Random Forest: combines de-correlated trees, where each tree is built from a bootstrap sample and node splits are calculated from random feature subsets\n",
    "- Ensemble Model: combine predictions of several models in order to improve the accuracy (decrease bias) and robustness (decrease variance) over a single model\n",
    "\n",
    "The model we are using here: **Logistic Regression**\n",
    "\n",
    "Logistic regression estimates the probability of a binary response based on one or more features.\n",
    "The probabilities describing the possible outcomes of a single trial are modeled using a logistic function.\n",
    "Here we estimate the probability of a review being five-star."
   ]
  },
  {
   "cell_type": "markdown",
   "metadata": {},
   "source": [
    "## 4.4 Normalize the Features\n",
    "\n",
    "Standardize features by removing the mean and scaling to unit variance.\n",
    "- Logistic Regression requires all features been normalized."
   ]
  },
  {
   "cell_type": "code",
   "execution_count": 169,
   "metadata": {},
   "outputs": [],
   "source": [
    "from sklearn import preprocessing\n",
    "\n",
    "scaler = preprocessing.StandardScaler().fit(X_train.astype(float))\n",
    "\n",
    "X_train_scaled = scaler.transform(X_train)\n",
    "X_test_scaled = scaler.transform(X_test)"
   ]
  },
  {
   "cell_type": "markdown",
   "metadata": {},
   "source": [
    "## 4.5 Fit the model"
   ]
  },
  {
   "cell_type": "code",
   "execution_count": 170,
   "metadata": {},
   "outputs": [],
   "source": [
    "from sklearn import linear_model\n",
    "\n",
    "# Build model using default parameter values\n",
    "lrc = linear_model.LogisticRegression(solver='lbfgs')"
   ]
  },
  {
   "cell_type": "code",
   "execution_count": 171,
   "metadata": {},
   "outputs": [
    {
     "name": "stdout",
     "output_type": "stream",
     "text": [
      "CPU times: user 2min 15s, sys: 4.86 s, total: 2min 20s\n",
      "Wall time: 26.1 s\n"
     ]
    }
   ],
   "source": [
    "%%time\n",
    "lrc_fit = lrc.fit(X_train_scaled, y_train)\n",
    "y_pred = lrc_fit.predict(X_test_scaled)"
   ]
  },
  {
   "cell_type": "code",
   "execution_count": 172,
   "metadata": {},
   "outputs": [
    {
     "data": {
      "text/plain": [
       "[('user_average_stars', 1.049684968298811),\n",
       " ('user_cool', -0.9961892648341321),\n",
       " ('biz_stars', 0.9251332816407676),\n",
       " ('user_useful', 0.7221781346292683),\n",
       " ('review_cool', 0.4171973395424721),\n",
       " ('user_funny', 0.3710314623491789),\n",
       " ('review_funny', -0.30506177196370815),\n",
       " ('review_text_len', -0.2941021879534137),\n",
       " ('user_review_count', -0.25955688095975643),\n",
       " ('user_elite_len', -0.22685905351987332),\n",
       " ('review_useful', -0.15926668807554656),\n",
       " ('review_date_delta', -0.10339799513628324),\n",
       " ('user_compliment_photos', -0.08543019721533285),\n",
       " ('biz_review_count', -0.08014098969873662),\n",
       " ('user_compliment_list', 0.06497115451519483),\n",
       " ('user_compliment_writer', 0.062182935034065585),\n",
       " ('user_compliment_more', -0.05779581867557047),\n",
       " ('biz_is_open', 0.04135772640967527),\n",
       " ('user_compliment_plain', -0.027479625105170526),\n",
       " ('user_compliment_hot', 0.027137209153353794),\n",
       " ('user_compliment_profile', -0.016804726143453165),\n",
       " ('user_compliment_cute', 0.016548962896252437),\n",
       " ('user_fans', 0.0152380884782918),\n",
       " ('user_friends_len', 0.006990533025595037),\n",
       " ('user_yelping_since_delta', 0.0067781415523152765),\n",
       " ('user_compliment_note', 0.003886130807956191),\n",
       " ('user_compliment_cool', -0.0027453447282521897),\n",
       " ('user_compliment_funny', -0.0027453447282521897)]"
      ]
     },
     "execution_count": 172,
     "metadata": {},
     "output_type": "execute_result"
    }
   ],
   "source": [
    "# Model feature importance\n",
    "sorted(zip(X_train.columns.values, lrc_fit.coef_[0]), key=lambda t: abs(t[1]), reverse=True)"
   ]
  },
  {
   "cell_type": "markdown",
   "metadata": {},
   "source": [
    "# Step 5: Evaluate the Model\n",
    "\n",
    "## 5.1 Make Prediction with the Model\n",
    "\n",
    "Process: \n",
    "- Randomly pick a few anonymous users from the dataset.\n",
    "- Randomly pick a few businesses from the dataset.\n",
    "- Predict whether the user will give the business a review with five-star rating."
   ]
  },
  {
   "cell_type": "code",
   "execution_count": 173,
   "metadata": {},
   "outputs": [],
   "source": [
    "from IPython.display import display, HTML\n",
    "\n",
    "def predict_given_user_biz(user, biz, review_df):\n",
    "    a_user = user.copy()\n",
    "    a_biz = biz.copy()\n",
    "    # The review hasn't actually be written yet.\n",
    "    # XXX(xun): We fake the feature using global mean/avg values to create a \"general\" review. \n",
    "    #   There are many other/better ways to fake the review to be more representative\n",
    "    #   (e.g. draw from the real distribution, or avg of the user / the biz). \n",
    "    a_review = pd.DataFrame(\n",
    "        {\n",
    "            'user_id': a_user.index,\n",
    "            'business_id': a_biz.index,\n",
    "            'useful': review_df.review_useful.mean(),\n",
    "            'funny': review_df.review_funny.mean(),\n",
    "            'cool': review_df.review_cool.mean(),\n",
    "            'date_delta': 0.0, # the review is written the most recently\n",
    "            'text_len': review_df.review_text_len.mean(),\n",
    "        }\n",
    "    )\n",
    "    rename(a_user, 'user_')\n",
    "    rename(a_biz, 'biz_')\n",
    "    rename(a_review, 'review_')\n",
    "\n",
    "    a_review_join_user = a_review.join(a_user, on='user_id')\n",
    "    a_X_test = a_review_join_user.join(a_biz, on='business_id')\n",
    "    drop_columns(df=a_X_test, columns=['user_id', 'business_id'])\n",
    "    a_X_test.fillna(value=FILL_WITH, inplace=True)\n",
    "    #display(HTML(a_X_test.to_html()))\n",
    "\n",
    "    a_X_test_scaled = scaler.transform(a_X_test.astype(float))\n",
    "    a_y_pred = lrc_fit.predict(a_X_test_scaled)\n",
    "    a_y_pred_proba = lrc_fit.predict_proba(a_X_test_scaled)\n",
    "    \n",
    "    print(f'{a_y_pred[0]}, with probability [False, True] == {a_y_pred_proba[0]}')"
   ]
  },
  {
   "cell_type": "code",
   "execution_count": 174,
   "metadata": {},
   "outputs": [
    {
     "name": "stdout",
     "output_type": "stream",
     "text": [
      "user_id\n",
      "kEtR1ZVL3Xr-tEX7lg16dQ    4.98\n",
      "Name: user_average_stars, dtype: float64\n"
     ]
    }
   ],
   "source": [
    "user1 = user_df[user_df.index == 'kEtR1ZVL3Xr-tEX7lg16dQ']\n",
    "#print(user1.review_count)\n",
    "print(user1.user_average_stars)"
   ]
  },
  {
   "cell_type": "code",
   "execution_count": 175,
   "metadata": {},
   "outputs": [
    {
     "name": "stdout",
     "output_type": "stream",
     "text": [
      "user_id\n",
      "Hj20fg3vyzKnJwnLn_rMqw    4.53\n",
      "Name: user_average_stars, dtype: float64\n"
     ]
    }
   ],
   "source": [
    "user2 = user_df[user_df.index == 'Hj20fg3vyzKnJwnLn_rMqw']\n",
    "print(user2.user_average_stars)"
   ]
  },
  {
   "cell_type": "code",
   "execution_count": 176,
   "metadata": {},
   "outputs": [
    {
     "name": "stdout",
     "output_type": "stream",
     "text": [
      "user_id\n",
      "om5ZiponkpRqUNa3pVPiRg    3.94\n",
      "Name: user_average_stars, dtype: float64\n"
     ]
    }
   ],
   "source": [
    "user3 = user_df[user_df.index == 'om5ZiponkpRqUNa3pVPiRg']\n",
    "print(user3.user_average_stars)"
   ]
  },
  {
   "cell_type": "code",
   "execution_count": 177,
   "metadata": {},
   "outputs": [
    {
     "name": "stdout",
     "output_type": "stream",
     "text": [
      "business_id\n",
      "u-SJ5QUwrNquL9VnXwl8cg    4.5\n",
      "Name: biz_stars, dtype: float64\n"
     ]
    }
   ],
   "source": [
    "biz1 = biz_df[biz_df.index == 'u-SJ5QUwrNquL9VnXwl8cg']\n",
    "print(biz1.biz_stars)"
   ]
  },
  {
   "cell_type": "code",
   "execution_count": 178,
   "metadata": {
    "scrolled": true
   },
   "outputs": [
    {
     "name": "stdout",
     "output_type": "stream",
     "text": [
      "business_id\n",
      "MtUUc5w3HuDMcmL89RcG6Q    2.5\n",
      "Name: biz_stars, dtype: float64\n"
     ]
    }
   ],
   "source": [
    "biz2 = biz_df[biz_df.index == 'MtUUc5w3HuDMcmL89RcG6Q']\n",
    "print(biz2.biz_stars)"
   ]
  },
  {
   "cell_type": "markdown",
   "metadata": {},
   "source": [
    "## biz1: https://www.yelp.com/biz/postino-arcadia-phoenix\n",
    "\n",
    "<img src=\"postino-arcadia-phoenix.png\" alt=\"postino-arcadia-phoenix\" width=\"800\">\n",
    "\n",
    "## biz2 https://www.yelp.com/biz/port-authority-of-allegheny-county-pittsburgh\n",
    "\n",
    "<img src=\"port-authority-of-allegheny-county-pittsburgh.png\" alt=\"port-authority-of-allegheny-county-pittsburgh\" width=\"800\">"
   ]
  },
  {
   "cell_type": "markdown",
   "metadata": {},
   "source": [
    "### Make predictions for user[1,2,3]'s review on biz1"
   ]
  },
  {
   "cell_type": "code",
   "execution_count": 179,
   "metadata": {
    "scrolled": false
   },
   "outputs": [
    {
     "name": "stdout",
     "output_type": "stream",
     "text": [
      "True, with probability [False, True] == [0.08 0.92]\n",
      "True, with probability [False, True] == [0.22 0.78]\n",
      "False, with probability [False, True] == [0.64 0.36]\n"
     ]
    }
   ],
   "source": [
    "predict_given_user_biz(user=user1, biz=biz1, review_df=review_df)\n",
    "predict_given_user_biz(user=user2, biz=biz1, review_df=review_df)\n",
    "predict_given_user_biz(user=user3, biz=biz1, review_df=review_df)"
   ]
  },
  {
   "cell_type": "markdown",
   "metadata": {},
   "source": [
    "### Make predictions for user[1,2,3]'s review on biz2"
   ]
  },
  {
   "cell_type": "code",
   "execution_count": 180,
   "metadata": {},
   "outputs": [
    {
     "name": "stdout",
     "output_type": "stream",
     "text": [
      "True, with probability [False, True] == [0.46 0.54]\n",
      "False, with probability [False, True] == [0.75 0.25]\n",
      "False, with probability [False, True] == [0.95 0.05]\n"
     ]
    }
   ],
   "source": [
    "predict_given_user_biz(user=user1, biz=biz2, review_df=review_df)\n",
    "predict_given_user_biz(user=user2, biz=biz2, review_df=review_df)\n",
    "predict_given_user_biz(user=user3, biz=biz2, review_df=review_df)"
   ]
  },
  {
   "cell_type": "markdown",
   "metadata": {},
   "source": [
    "## 5.2 Confusion Matrix "
   ]
  },
  {
   "cell_type": "code",
   "execution_count": 181,
   "metadata": {},
   "outputs": [],
   "source": [
    "import matplotlib.pyplot as plt\n",
    "\n",
    "# Code adapted from https://scikit-learn.org/stable/auto_examples/model_selection/plot_confusion_matrix.html\n",
    "def plot_confusion_matrix(cm, classes, title, cmap=plt.cm.Blues, normalize=True):\n",
    "    if normalize:\n",
    "        # Normalize the confusion matrix by row (i.e by the number of samples in each class)\n",
    "        cm = cm.astype('float') / cm.sum(axis=1)[:, np.newaxis]\n",
    "    #print(cm)\n",
    "\n",
    "    fig, ax = plt.subplots()\n",
    "    im = ax.imshow(cm, interpolation='nearest', cmap=cmap)\n",
    "    ax.figure.colorbar(im, ax=ax)\n",
    "    # We want to show all ticks...\n",
    "    ax.set(xticks=np.arange(cm.shape[1]),\n",
    "           yticks=np.arange(cm.shape[0]),\n",
    "           # ... and label them with the respective list entries\n",
    "           xticklabels=classes, yticklabels=classes,\n",
    "           title=title,\n",
    "           ylabel='True label',\n",
    "           xlabel='Predicted label')\n",
    "\n",
    "    # Rotate the tick labels and set their alignment.\n",
    "    plt.setp(ax.get_xticklabels(), rotation=45, ha=\"right\",\n",
    "             rotation_mode=\"anchor\")\n",
    "\n",
    "    # Loop over data dimensions and create text annotations.\n",
    "    fmt = '.2f' if normalize else 'd'\n",
    "    thresh = cm.max() / 2.\n",
    "    for i in range(cm.shape[0]):\n",
    "        for j in range(cm.shape[1]):\n",
    "            ax.text(j, i, format(cm[i, j], fmt),\n",
    "                    ha=\"center\", va=\"center\",\n",
    "                    color=\"white\" if cm[i, j] > thresh else \"black\")\n",
    "    fig.tight_layout()\n",
    "    return ax"
   ]
  },
  {
   "cell_type": "code",
   "execution_count": 182,
   "metadata": {},
   "outputs": [
    {
     "data": {
      "image/png": "[encoded data removed]",
      "text/plain": [
       "<Figure size 1080x576 with 2 Axes>"
      ]
     },
     "metadata": {},
     "output_type": "display_data"
    },
    {
     "data": {
      "image/png": "[encoded data removed]",
      "text/plain": [
       "<Figure size 1080x576 with 2 Axes>"
      ]
     },
     "metadata": {},
     "output_type": "display_data"
    }
   ],
   "source": [
    "from sklearn.metrics import confusion_matrix\n",
    "from sklearn.utils.multiclass import unique_labels\n",
    "\n",
    "np.set_printoptions(precision=2)\n",
    "\n",
    "# Only use the labels that appear in the data\n",
    "classes = unique_labels(y_test, y_pred)\n",
    "# Compute confusion matrix\n",
    "cm = confusion_matrix(y_test, y_pred)\n",
    "# Plot non-normalized confusion matrix\n",
    "plot_confusion_matrix(cm, classes,\n",
    "                      title='Confusion matrix, without normalization', normalize=False)\n",
    "\n",
    "# Plot normalized confusion matrix\n",
    "plot_confusion_matrix(cm, classes,\n",
    "                      title='Normalized confusion matrix', normalize=True)\n",
    "\n",
    "plt.show()"
   ]
  },
  {
   "cell_type": "markdown",
   "metadata": {},
   "source": [
    "## 5.3 Cross Validation and ROC AUC\n",
    "\n",
    "Cross Validation: Hold out a portion of the training data for model validation, and do this for `K_FOLD`.\n",
    "- Ensure that the model does not overfit the training data.\n",
    "- Select optimal model parameters.\n",
    "\n",
    "We look at some commonly used metrics for binary classification problem:\n",
    "- Accuracy: percentage of labels correctly predicted. The higher the better.\n",
    "- ROC AUC: ROC curve, is a graphical plot that illustrates the diagnostic ability of a binary classifier system as its discrimination threshold is varied. \"AUC\" (\"Area Under Curve”). The higher the better."
   ]
  },
  {
   "cell_type": "code",
   "execution_count": 183,
   "metadata": {},
   "outputs": [],
   "source": [
    "from sklearn.model_selection import cross_validate\n",
    "import numpy as np\n",
    "\n",
    "# Function used to calculate and print cross-validation scores\n",
    "def training_score(est, X, y, cv):\n",
    "    scores = cross_validate(est, X, y, cv=cv, scoring=['accuracy', 'roc_auc'])\n",
    "    acc, roc = scores['test_accuracy'], scores['test_roc_auc']\n",
    "    print(f\"{cv}-fold Train Cross Validation | \" \\\n",
    "          f\"Accuracy: {round(np.mean(acc), 3)} +/- {round(np.std(acc), 3)} | \" \\\n",
    "          f\"ROC AUC: {round(np.mean(roc), 3)} +/- {round(np.std(roc), 3)}\")"
   ]
  },
  {
   "cell_type": "code",
   "execution_count": 184,
   "metadata": {},
   "outputs": [
    {
     "name": "stdout",
     "output_type": "stream",
     "text": [
      "5-fold Train Cross Validation | Accuracy: 0.749 +/- 0.0 | ROC AUC: 0.829 +/- 0.0\n",
      "CPU times: user 10min 8s, sys: 21.3 s, total: 10min 29s\n",
      "Wall time: 2min 10s\n"
     ]
    }
   ],
   "source": [
    "%%time\n",
    "K_FOLD = 5\n",
    "training_score(est=lrc, X=X_train_scaled, y=y_train, cv=K_FOLD)"
   ]
  },
  {
   "cell_type": "code",
   "execution_count": 185,
   "metadata": {},
   "outputs": [],
   "source": [
    "# Adapted from https://scikit-learn.org/stable/auto_examples/model_selection/plot_roc_crossval.html\n",
    "from scipy import interp\n",
    "from sklearn.metrics import roc_curve, auc\n",
    "from sklearn.model_selection import StratifiedKFold\n",
    "\n",
    "def plot_roc_cv(classifier, X, y, n_splits):\n",
    "    cv = StratifiedKFold(n_splits=n_splits)\n",
    "\n",
    "    tprs = []\n",
    "    aucs = []\n",
    "    mean_fpr = np.linspace(0, 1, 100)\n",
    "\n",
    "    i = 0\n",
    "    for train, test in cv.split(X, y):\n",
    "        probas_ = classifier.fit(X[train], y[train]).predict_proba(X[test])\n",
    "        # Compute ROC curve and area under the curve\n",
    "        fpr, tpr, thresholds = roc_curve(y[test], probas_[:, 1])\n",
    "        tprs.append(interp(mean_fpr, fpr, tpr))\n",
    "        tprs[-1][0] = 0.0\n",
    "        roc_auc = auc(fpr, tpr)\n",
    "        aucs.append(roc_auc)\n",
    "        plt.plot(fpr, tpr, lw=1, alpha=0.3,\n",
    "                 label='ROC fold %d (AUC = %0.2f)' % (i, roc_auc))\n",
    "        i += 1\n",
    "    plt.plot([0, 1], [0, 1], linestyle='--', lw=2, color='r',\n",
    "             label='Chance', alpha=.8)\n",
    "\n",
    "    mean_tpr = np.mean(tprs, axis=0)\n",
    "    mean_tpr[-1] = 1.0\n",
    "    mean_auc = auc(mean_fpr, mean_tpr)\n",
    "    std_auc = np.std(aucs)\n",
    "    plt.plot(mean_fpr, mean_tpr, color='b',\n",
    "             label=r'Mean ROC (AUC = %0.2f $\\pm$ %0.2f)' % (mean_auc, std_auc),\n",
    "             lw=2, alpha=.8)\n",
    "\n",
    "    std_tpr = np.std(tprs, axis=0)\n",
    "    tprs_upper = np.minimum(mean_tpr + std_tpr, 1)\n",
    "    tprs_lower = np.maximum(mean_tpr - std_tpr, 0)\n",
    "    plt.fill_between(mean_fpr, tprs_lower, tprs_upper, color='grey', alpha=.2,\n",
    "                     label=r'$\\pm$ 1 std. dev.')\n",
    "\n",
    "    plt.xlim([-0.05, 1.05])\n",
    "    plt.ylim([-0.05, 1.05])\n",
    "    plt.xlabel('False Positive Rate')\n",
    "    plt.ylabel('True Positive Rate')\n",
    "    plt.title('Receiver operating characteristic')\n",
    "    plt.legend(loc=\"lower right\")\n",
    "    plt.show()"
   ]
  },
  {
   "cell_type": "code",
   "execution_count": 186,
   "metadata": {},
   "outputs": [
    {
     "data": {
      "image/png": "[encoded data removed]",
      "text/plain": [
       "<Figure size 1080x576 with 1 Axes>"
      ]
     },
     "metadata": {},
     "output_type": "display_data"
    },
    {
     "name": "stdout",
     "output_type": "stream",
     "text": [
      "CPU times: user 10min 9s, sys: 12.1 s, total: 10min 21s\n",
      "Wall time: 1min 52s\n"
     ]
    }
   ],
   "source": [
    "%%time\n",
    "# Run classifier with cross-validation and plot ROC curves\n",
    "plot_roc_cv(classifier=lrc, X=X_train_scaled, y=y_train, n_splits=K_FOLD)"
   ]
  },
  {
   "cell_type": "markdown",
   "metadata": {},
   "source": [
    "# Step 6 & Beyond: Iterate Through the Process\n",
    "\n",
    "First trial usually won’t be the best. We usually do multiple iterations. Each time we look at the features, find out feature correlations, add / remove / adjust feature representation, change the model to use, or do parameter tuning for the model, etc. "
   ]
  }
 ],
 "metadata": {
  "kernelspec": {
   "display_name": "Python 3",
   "language": "python",
   "name": "python3"
  },
  "language_info": {
   "codemirror_mode": {
    "name": "ipython",
    "version": 3
   },
   "file_extension": ".py",
   "mimetype": "text/x-python",
   "name": "python",
   "nbconvert_exporter": "python",
   "pygments_lexer": "ipython3",
   "version": "3.7.3"
  }
 },
 "nbformat": 4,
 "nbformat_minor": 1
}
